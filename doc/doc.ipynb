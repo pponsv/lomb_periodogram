{
 "cells": [
  {
   "cell_type": "code",
   "execution_count": null,
   "id": "40a850f8-2c37-49c2-a90f-ee2c17e1835f",
   "metadata": {},
   "outputs": [],
   "source": [
    "import matplotlib.pyplot as plt\n",
    "import numpy as np"
   ]
  },
  {
   "cell_type": "code",
   "execution_count": null,
   "id": "6cd029fa-64e8-4189-85aa-6f48fdf3665f",
   "metadata": {},
   "outputs": [],
   "source": [
    "import sys\n",
    "sys.path.append('../../')\n",
    "import lomb as pl"
   ]
  },
  {
   "cell_type": "code",
   "execution_count": null,
   "id": "9b046873-8973-4dca-b819-6e8e22943d01",
   "metadata": {},
   "outputs": [],
   "source": [
    "t0, t1, dt = 0,1,0.001\n",
    "\n",
    "freq   = 200\n",
    "\n",
    "ncoils = 64\n",
    "thetas = 2*np.pi*np.random.rand(ncoils)\n",
    "phis   = 2*np.pi*np.random.rand(ncoils)\n",
    "\n",
    "time   = np.linspace(t0, t1, int((t1-t0)/dt)+1)\n",
    "modes  = [[8, 0, 2*np.pi*freq, 1],\n",
    "          [-5,12, 2*np.pi*freq, 1]]\n",
    "\n",
    "sig    = pl.csignal(time, modes, thetas, phis)\n",
    "\n",
    "ns = np.linspace(-15, 15, 31)\n",
    "ms = np.linspace(-15, 15, 31)\n",
    "\n",
    "mapa = pl.easylomb3(time, thetas, phis, sig, freq, ns, ms)\n",
    "\n",
    "pl.plotmapa(mapa, ns, ms)"
   ]
  },
  {
   "cell_type": "code",
   "execution_count": null,
   "id": "a0b687fe-07a0-4c0e-bb12-6b8fe1fc127a",
   "metadata": {},
   "outputs": [],
   "source": []
  }
 ],
 "metadata": {
  "kernelspec": {
   "display_name": "Python 3 (ipykernel)",
   "language": "python",
   "name": "python3"
  },
  "language_info": {
   "codemirror_mode": {
    "name": "ipython",
    "version": 3
   },
   "file_extension": ".py",
   "mimetype": "text/x-python",
   "name": "python",
   "nbconvert_exporter": "python",
   "pygments_lexer": "ipython3",
   "version": "3.8.10"
  }
 },
 "nbformat": 4,
 "nbformat_minor": 5
}
